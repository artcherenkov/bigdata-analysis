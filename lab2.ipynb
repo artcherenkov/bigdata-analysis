{
 "cells": [
  {
   "cell_type": "code",
   "execution_count": 7,
   "id": "3bde7751",
   "metadata": {},
   "outputs": [
    {
     "name": "stdout",
     "output_type": "stream",
     "text": [
      "160.25\n"
     ]
    }
   ],
   "source": [
    "# 1. Напишите уравнение, в котором используются умножение, деление, показатель степени, сложение и вычитание, равное 160,25.\n",
    "a = 1\n",
    "b = 4\n",
    "c = 1/10\n",
    "d = 10\n",
    "e = 9.75\n",
    "res = a * b ** 2 / c + d - e\n",
    "print(res)"
   ]
  },
  {
   "cell_type": "markdown",
   "id": "be91bd58",
   "metadata": {},
   "source": [
    "<!-- 3. Напишите программу, которая выводит: \"Mother's favorite book \"Gone with the Wind\"\" -->"
   ]
  },
  {
   "cell_type": "code",
   "execution_count": 32,
   "id": "dc7c21b9",
   "metadata": {},
   "outputs": [
    {
     "name": "stdout",
     "output_type": "stream",
     "text": [
      "e\n",
      "olleh\n",
      "o\n",
      "o\n"
     ]
    }
   ],
   "source": [
    "# 2. Дана строка s = 'hello'.\n",
    "s = \"hello\"\n",
    "# Выведете букву 'e', используя индексацию\n",
    "print(s[1])\n",
    "# Переверните строку, используя нарезку.\n",
    "print(s[::-1])\n",
    "# Для строки укажите два способа получения буквы 'o' с помощью индексации.\n",
    "print(s[len(s)-1])\n",
    "print(s[-1])"
   ]
  },
  {
   "cell_type": "code",
   "execution_count": 35,
   "id": "bb3e0a72",
   "metadata": {},
   "outputs": [
    {
     "name": "stdout",
     "output_type": "stream",
     "text": [
      "Mother's favorite book is \"Gone with the Wind\"\n"
     ]
    }
   ],
   "source": [
    "# 3. Напишите программу, которая выводит: \"Mother's favorite book \"Gone with the Wind\"\"\n",
    "str = \"Mother\\'s favorite book is \\\"Gone with the Wind\\\"\"\n",
    "print(str)"
   ]
  },
  {
   "cell_type": "code",
   "execution_count": 39,
   "id": "320e2247",
   "metadata": {},
   "outputs": [
    {
     "name": "stdout",
     "output_type": "stream",
     "text": [
      "How are you, Artem?\n",
      "I'm fine, thanks.\n"
     ]
    }
   ],
   "source": [
    "# 4. Создайте переменную name с любым именем. Выведите две строки:\n",
    "# How are you, <name>?\n",
    "# I'm fine, thanks.\n",
    "name = \"Artem\"\n",
    "row1 = f\"How are you, {name}?\"\n",
    "row2 = \"I\\'m fine, thanks.\"\n",
    "print(row1 + \"\\n\" + row2)"
   ]
  },
  {
   "cell_type": "code",
   "execution_count": 41,
   "id": "aea3c1ec",
   "metadata": {},
   "outputs": [
    {
     "name": "stdout",
     "output_type": "stream",
     "text": [
      "[1, 2, [3, 4, 'goodbye']]\n"
     ]
    }
   ],
   "source": [
    "# 5. Переназначьте 'hello' во вложенном списке list1 = [1,2,[3,4,'hello']], чтобы вместо этого было 'goodbye'.\n",
    "list1 = [1, 2, [3, 4, 'hello']]\n",
    "list1[2][2] = \"goodbye\"\n",
    "print(list1)"
   ]
  },
  {
   "cell_type": "code",
   "execution_count": 43,
   "id": "969915e9",
   "metadata": {},
   "outputs": [
    {
     "name": "stdout",
     "output_type": "stream",
     "text": [
      "[1, 3, 4, 5, 6]\n"
     ]
    }
   ],
   "source": [
    "# 6. Отсортируйте список list2 = [5,3,4,6,1]\n",
    "list2 = [5, 3, 4, 6, 1]\n",
    "list2.sort()\n",
    "print(list2)"
   ]
  },
  {
   "cell_type": "code",
   "execution_count": 53,
   "id": "583735a0",
   "metadata": {},
   "outputs": [
    {
     "name": "stdout",
     "output_type": "stream",
     "text": [
      "hello\n",
      "hello\n",
      "hello\n",
      "hello\n"
     ]
    }
   ],
   "source": [
    "# 7. Используя ключи и индексацию, возьмите 'hello' из следующих словарей:\n",
    "    # 1) d = {'simple_key':'hello'}\n",
    "    # 2) d = {'k1':{'k2':'hello'}}\n",
    "    # 3) d = {'k1':[{'nest_key':['this is deep',['hello']]}]}\n",
    "    # 4) d = {'k1':[1,2,{'k2':['this is tricky',{'tough':[1,2,['hello']]}]}]}\n",
    "d1 = {\"simple_key\": \"hello\"}\n",
    "print(d1[\"simple_key\"])\n",
    "\n",
    "d2 = {\"k1\": {\"k2\": \"hello\"}}\n",
    "print(d2[\"k1\"][\"k2\"])\n",
    "\n",
    "d3 = {\"k1\": [{\"nest_key\": [\"this is deep\", [\"hello\"]]}]}\n",
    "print(d3[\"k1\"][0][\"nest_key\"][1][0])\n",
    "\n",
    "d4 = {\"k1\": [1, 2, {\"k2\": [\"this is tricky\", {\"tough\": [1, 2, [\"hello\"]]}]}]}\n",
    "print(d4[\"k1\"][2][\"k2\"][1][\"tough\"][2][0])\n"
   ]
  },
  {
   "cell_type": "code",
   "execution_count": 55,
   "id": "f69906d8",
   "metadata": {},
   "outputs": [
    {
     "name": "stdout",
     "output_type": "stream",
     "text": [
      "{1, 2, 33, 4, 3, 11, 22}\n"
     ]
    }
   ],
   "source": [
    "# 8. Используйте множество, чтобы найти уникальные значения в списке list3 = [1,2,2,33,4,4,11,22,3,3,2].\n",
    "list1 = [1,2,2,33,4,4,11,22,3,3,2]\n",
    "unique_elements = set(list1)\n",
    "print(unique_elements)"
   ]
  },
  {
   "cell_type": "code",
   "execution_count": 1,
   "id": "4fd40caa",
   "metadata": {},
   "outputs": [
    {
     "name": "stdout",
     "output_type": "stream",
     "text": [
      "€10 это:\n",
      "$12.4\n",
      "₽764.46\n"
     ]
    }
   ],
   "source": [
    "# 9. Напишите программу, которая берет исходное количество евро, записанное в переменную euros_count, \n",
    "# переводит евро в доллары и выводит на экран. \n",
    "# Затем полученное значение переводит в рубли и выводит на новой строчке.\n",
    "\n",
    "# на текущий момент курс eur/usd = 0.99. Предположим, евро дороже доллара и имеет отношение eur/usd = 1.24\n",
    "eur_usd = 1.24\n",
    "# курс usd/rub оставим реальным\n",
    "usd_rub = 61.65\n",
    "\n",
    "eur_count = 10\n",
    "usd_count = eur_count * eur_usd\n",
    "rub_count = usd_count * usd_rub\n",
    "\n",
    "print(f'€{eur_count} это:')\n",
    "print(f'${usd_count}')\n",
    "print(f'₽{rub_count}')"
   ]
  },
  {
   "cell_type": "code",
   "execution_count": 68,
   "id": "4e198afc",
   "metadata": {},
   "outputs": [],
   "source": [
    "# 10. Создайте переменную student и присвойте ей строку, содержащую фамилию, имя и отчество, разделенные «;». \n",
    "# Преобразуйте ее в список с помощью метода spit() и выведите его на экран. \n",
    "# Преобразуйте полученный список сначала в кортеж, а потом в множество. Выведите их на экран.\n",
    "\n",
    "student = \"Черенков;Артем;Вячеславович\"\n",
    "\n",
    "student_list = student.split(\";\")\n",
    "print(student_list)\n",
    "\n",
    "student_tuple = tuple(student_list)\n",
    "print(student_tuple)\n",
    "\n",
    "student_set = set(student_tuple)\n",
    "print(student_set)"
   ]
  }
 ],
 "metadata": {
  "kernelspec": {
   "display_name": "Python 3.10.6 64-bit",
   "language": "python",
   "name": "python3"
  },
  "language_info": {
   "codemirror_mode": {
    "name": "ipython",
    "version": 3
   },
   "file_extension": ".py",
   "mimetype": "text/x-python",
   "name": "python",
   "nbconvert_exporter": "python",
   "pygments_lexer": "ipython3",
   "version": "3.10.6"
  },
  "vscode": {
   "interpreter": {
    "hash": "b0fa6594d8f4cbf19f97940f81e996739fb7646882a419484c72d19e05852a7e"
   }
  }
 },
 "nbformat": 4,
 "nbformat_minor": 5
}
