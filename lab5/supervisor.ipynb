{
 "cells": [
  {
   "cell_type": "markdown",
   "id": "e8808b37",
   "metadata": {},
   "source": [
    "#### 5. Система бронирования авиакомпаний/отелей. Создайте систему бронирования, которая бронирует места в самолетах или номера в отелях. Он взимает различные тарифы за определенные участки самолета или отеля. Например, первый класс будет стоить больше, чем эконом. В гостиничных номерах есть пентхаусы, которые стоят дороже. Следите за тем, когда комнаты будут доступны и могут быть запланированы."
   ]
  },
  {
   "cell_type": "code",
   "execution_count": null,
   "id": "fc692591",
   "metadata": {},
   "outputs": [],
   "source": [
    "class Hotel:\n",
    "    def __init__(self, title: str):\n",
    "        self.title = title\n",
    "\n",
    "    def __repr__(self):\n",
    "        return f'Hotel \\'{self.title}\\''\n",
    "\n",
    "\n",
    "class Airline:\n",
    "    def __init__(self, title: str):\n",
    "        self.title = title\n",
    "\n",
    "    def __repr__(self):\n",
    "        return f'Airline \\'{self.title}\\''\n",
    "\n",
    "\n",
    "class Supervisor:\n",
    "    def __init__(self, hotels: list[Hotel] = [], airlines: list[Airline] = []):\n",
    "        self._hotels = hotels\n",
    "        self._airlines = airlines\n",
    "\n",
    "    def add_hotel(self, hotel: Hotel):\n",
    "        if hotel in self._hotels:\n",
    "            return print(f'Oops \\'{hotel.title}\\' already on the list.')\n",
    "        self._hotels += [hotel]\n",
    "\n",
    "    def add_airline(self, airline: Airline):\n",
    "        if airline in self._airlines:\n",
    "            return print(f'Oops \\'{airline.title}\\' already on the list.')\n",
    "        self._airlines += [airline]\n",
    "\n",
    "    def remove_hotel(self, hotel_title: str):\n",
    "        hotel_to_remove = next(\n",
    "            (hotel for hotel in self._hotels if hotel.title == hotel_title), None)\n",
    "\n",
    "        if hotel_to_remove is None:\n",
    "            return print(f'There\\'s no hotel {hotel_title} on the list.')\n",
    "\n",
    "        self._hotels.remove(hotel_to_remove)\n",
    "        print(f'Removed hotel {hotel_title}')\n",
    "\n",
    "    def remove_airline(self, airline_title: str):\n",
    "        airline_to_remove = next(\n",
    "            (airline for airline in self._airlines if airline.title == airline_title), None)\n",
    "\n",
    "        if airline_to_remove is None:\n",
    "            return print(f'There\\'s no airline {airline_title} on the list.')\n",
    "\n",
    "        self._airlines.remove(airline_to_remove)\n",
    "        print(f'Removed airline {airline_title}')\n",
    "\n",
    "    def get_hotels(self):\n",
    "        return self._hotels\n",
    "\n",
    "    def get_airlines(self):\n",
    "        return self._airlines\n",
    "\n",
    "\n",
    "mariott = Hotel(\"Mariott\")\n",
    "s7 = Airline(\"S7\")\n",
    "\n",
    "sv = Supervisor([mariott], [s7])\n",
    "print(sv.get_hotels())\n",
    "print(sv.get_airlines())\n",
    "sv.remove_hotel(mariott.title)\n",
    "sv.remove_hotel(mariott.title)\n",
    "print(sv.get_hotels())\n",
    "sv.remove_airline(s7.title)\n",
    "sv.remove_airline(s7.title)\n",
    "print(sv.get_airlines())\n"
   ]
  }
 ],
 "metadata": {
  "kernelspec": {
   "display_name": "Python 3.10.6 64-bit",
   "language": "python",
   "name": "python3"
  },
  "language_info": {
   "name": "python",
   "version": "3.10.6"
  },
  "orig_nbformat": 4,
  "vscode": {
   "interpreter": {
    "hash": "b0fa6594d8f4cbf19f97940f81e996739fb7646882a419484c72d19e05852a7e"
   }
  }
 },
 "nbformat": 4,
 "nbformat_minor": 2
}
