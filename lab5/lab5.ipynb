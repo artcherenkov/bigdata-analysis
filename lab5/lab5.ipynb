{
 "cells": [
  {
   "cell_type": "markdown",
   "id": "2cd80eff",
   "metadata": {},
   "source": [
    "#### 1. Заполните методы класса Line, чтобы они принимали координаты в виде пары кортежей и возвращали наклон и расстояние линии."
   ]
  },
  {
   "cell_type": "code",
   "execution_count": null,
   "id": "541e1198",
   "metadata": {},
   "outputs": [],
   "source": [
    "class Line:\n",
    "    def __init__(self, coor1, coor2):\n",
    "        self.coor1 = coor1\n",
    "        self.coor2 = coor2\n",
    "\n",
    "    def distance(self):\n",
    "        x1, y1 = self.coor1\n",
    "        x2, y2 = self.coor2\n",
    "        return ((x2-x1)**2 + (y2-y1)**2)**1/2\n",
    "\n",
    "    def slope(self):\n",
    "        x1, y1 = self.coor1\n",
    "        x2, y2 = self.coor2\n",
    "        return (y2 - y1)/(x2 - x1)\n",
    "\n",
    "\n",
    "line = Line((2, 1), (5, 3))\n",
    "print(line.slope())\n",
    "print(line.distance())\n"
   ]
  },
  {
   "cell_type": "markdown",
   "id": "fd234b2c",
   "metadata": {},
   "source": [
    "#### 2. Заполните класс:"
   ]
  },
  {
   "cell_type": "code",
   "execution_count": null,
   "id": "6fe6796a",
   "metadata": {},
   "outputs": [],
   "source": [
    "import math\n",
    "\n",
    "\n",
    "class Cylinder:\n",
    "    def __init__(self, height=1, radius=1):\n",
    "        self.height = height\n",
    "        self.radius = radius\n",
    "\n",
    "    def volume(self):\n",
    "        return math.pi * self.radius ** 2 * self.height\n",
    "\n",
    "    def surface_area(self):\n",
    "        return 2 * self.radius * self.height + 2 * math.pi * self.radius ** 2\n",
    "\n",
    "\n",
    "cylinder = Cylinder(15, 10)\n",
    "print(cylinder.volume())\n",
    "print(cylinder.surface_area())\n"
   ]
  },
  {
   "cell_type": "markdown",
   "id": "86c7e628",
   "metadata": {},
   "source": [
    "#### 3. Для этой задачи создайте класс банковского счета с двумя атрибутами: владелец (owner) и остаток средств (balance). И также два метода: депозит (deposit) и снять средства (withdraw) В качестве дополнительного требования вывод средств не может превышать доступный баланс. Создайте экземпляр своего класса, сделайте несколько депозитов и снятий средств и проверьте, не может ли счет быть перерасходованным."
   ]
  },
  {
   "cell_type": "code",
   "execution_count": null,
   "id": "abb1c45a",
   "metadata": {},
   "outputs": [],
   "source": [
    "class BankAccount:\n",
    "    def __init__(self, owner, balance):\n",
    "        self.owner = owner\n",
    "        self.balance = balance\n",
    "        self.greet()\n",
    "\n",
    "    def deposit(self, amount):\n",
    "        self.balance += amount\n",
    "        self.log_transaction(\"deposit\", amount)\n",
    "\n",
    "    def withdraw(self, amount):\n",
    "        if (self.balance < amount):\n",
    "            return self.log_error(amount)\n",
    "        self.balance -= amount\n",
    "        self.log_transaction(\"withdraw\", amount)\n",
    "\n",
    "    def greet(self):\n",
    "        print(f'Hi, {self.owner}! Your balance: ${self.balance}\\n')\n",
    "\n",
    "    def log_transaction(self, action, amount):\n",
    "        operation = 'withdrawn' if action == \"withdraw\" else 'deposited'\n",
    "        print(f'${amount} was {operation}. New balance: {self.balance}')\n",
    "\n",
    "    def log_error(self, amount):\n",
    "        print(\n",
    "            f'\\nSorry, you have not enough money. Balance: ${self.balance}. You tried to withdraw ${amount}')\n",
    "\n",
    "\n",
    "bank_account = BankAccount(\"Artem\", 100)\n",
    "bank_account.deposit(500)\n",
    "bank_account.withdraw(200)\n",
    "bank_account.withdraw(2000)\n"
   ]
  }
 ],
 "metadata": {
  "kernelspec": {
   "display_name": "Python 3.10.6 64-bit",
   "language": "python",
   "name": "python3"
  },
  "language_info": {
   "codemirror_mode": {
    "name": "ipython",
    "version": 3
   },
   "file_extension": ".py",
   "mimetype": "text/x-python",
   "name": "python",
   "nbconvert_exporter": "python",
   "pygments_lexer": "ipython3",
   "version": "3.10.6"
  },
  "vscode": {
   "interpreter": {
    "hash": "b0fa6594d8f4cbf19f97940f81e996739fb7646882a419484c72d19e05852a7e"
   }
  }
 },
 "nbformat": 4,
 "nbformat_minor": 5
}
