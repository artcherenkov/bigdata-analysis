{
 "cells": [
  {
   "cell_type": "code",
   "execution_count": 5,
   "id": "35eccfa0",
   "metadata": {},
   "outputs": [
    {
     "name": "stdout",
     "output_type": "stream",
     "text": [
      "2\n",
      "5\n"
     ]
    }
   ],
   "source": [
    "# 1. Напишите функцию, которая возвращает меньшее из двух заданных чисел, \n",
    "# если оба числа четные, и большее, если одно или оба числа нечетные:\n",
    "\n",
    "def lesser_of_two_evens(num1, num2):\n",
    "    if num1 % 2 == 0 and num2 % 2 == 0:\n",
    "        return min(num1, num2)\n",
    "    \n",
    "    return max(num1, num2)\n",
    "\n",
    "print(lesser_of_two_evens(2,4))\n",
    "print(lesser_of_two_evens(2,5))"
   ]
  },
  {
   "cell_type": "code",
   "execution_count": 7,
   "id": "51eebcda",
   "metadata": {},
   "outputs": [
    {
     "name": "stdout",
     "output_type": "stream",
     "text": [
      "True\n",
      "False\n"
     ]
    }
   ],
   "source": [
    "# 2. Напишите функцию, которая принимает строку из двух слов и возвращает True, \n",
    "# если оба слова начинаются с одной и той же буквы:\n",
    "\n",
    "def animal_crackers(str):\n",
    "    word1, word2 = str.split()\n",
    "    return word2.startswith(word1[0])\n",
    "\n",
    "print(animal_crackers('Levelheaded Llama'))\n",
    "print(animal_crackers('Crazy Kangaroo'))"
   ]
  },
  {
   "cell_type": "code",
   "execution_count": 18,
   "id": "a0fc7676",
   "metadata": {},
   "outputs": [
    {
     "name": "stdout",
     "output_type": "stream",
     "text": [
      "home am I\n",
      "ready are We\n"
     ]
    }
   ],
   "source": [
    "# 3. Верните предложение со словами в обратном порядке:\n",
    "def master_yoda(str):\n",
    "    words = str.split();\n",
    "    return \" \".join(words[::-1])\n",
    "\n",
    "print(master_yoda('I am home'))\n",
    "print(master_yoda('We are ready'))"
   ]
  },
  {
   "cell_type": "code",
   "execution_count": 32,
   "id": "99e0af18",
   "metadata": {},
   "outputs": [
    {
     "name": "stdout",
     "output_type": "stream",
     "text": [
      "True\n",
      "False\n",
      "False\n"
     ]
    }
   ],
   "source": [
    "# 4. Учитывая список целых чисел, верните True, если в массиве есть тройки, стоящие рядом.\n",
    "\n",
    "def has_33(nums_list):\n",
    "    idx = 0\n",
    "    while idx < len(nums_list) - 1:\n",
    "        if nums_list[idx] == 3 and nums_list[idx + 1] == 3:\n",
    "            return True\n",
    "        idx += 1\n",
    "    return False\n",
    "\n",
    "\n",
    "print(has_33([1, 3 ,3]))\n",
    "print(has_33([1, 3, 1, 3]))\n",
    "print(has_33([3, 1, 3]))"
   ]
  },
  {
   "cell_type": "code",
   "execution_count": 45,
   "id": "902e4ffb",
   "metadata": {},
   "outputs": [
    {
     "name": "stdout",
     "output_type": "stream",
     "text": [
      "18\n",
      "BUST\n",
      "19\n"
     ]
    }
   ],
   "source": [
    "# 5. Даны три целых числа от 1 до 11, если их сумма меньше или равна 21, вернуть их\n",
    "# сумму. Если их сумма превышает 21, и есть 11, уменьшите общую сумму на 10. Наконец,\n",
    "# если сумма превышает 21, верните 'BUST'.\n",
    "\n",
    "def blackjack(*nums):\n",
    "    if sum(nums) <= 21: \n",
    "        return sum(nums)\n",
    "    else: \n",
    "        return sum(nums) - 10 if 11 in nums else \"BUST\"\n",
    "        \n",
    "\n",
    "print(blackjack(5,6,7))\n",
    "print(blackjack(9,9,9))\n",
    "print(blackjack(9,9,11))"
   ]
  },
  {
   "cell_type": "code",
   "execution_count": 68,
   "id": "5bf96224",
   "metadata": {},
   "outputs": [
    {
     "name": "stdout",
     "output_type": "stream",
     "text": [
      "25\n",
      "168\n"
     ]
    }
   ],
   "source": [
    "# 6. Напишите функцию, которая возвращает количество простых чисел, которые \n",
    "# существуют до заданного числа включительно.\n",
    "\n",
    "def is_prime(num):\n",
    "    d = 2\n",
    "    while d * d <= num and num % d != 0: \n",
    "        d += 1\n",
    "\n",
    "    return d * d > num\n",
    "\n",
    "def get_prime_nums_count(range_to_check):\n",
    "    count = 0\n",
    "    for i in range(2, range_to_check + 1):\n",
    "        if is_prime(i): count += 1\n",
    "\n",
    "    return count\n",
    "    \n",
    "print(get_prime_nums_count(100))\n",
    "print(get_prime_nums_count(1000))\n",
    "    "
   ]
  },
  {
   "cell_type": "code",
   "execution_count": 76,
   "id": "5b067afb",
   "metadata": {},
   "outputs": [
    {
     "name": "stdout",
     "output_type": "stream",
     "text": [
      "['H', 'M', 'R', 'T']\n",
      "['H', 'M', 'R', 'T']\n"
     ]
    }
   ],
   "source": [
    "# 7. Напишите функцию, которая принимает строку и вычисляет количество прописных и строчных букв.\n",
    "import re\n",
    "\n",
    "def get_upper_chars_count_regex(str):\n",
    "    return re.findall(r'[A-Z]', str)\n",
    "\n",
    "def get_upper_chars_count(str):\n",
    "    return [char for char in str if char.isupper()]\n",
    "\n",
    "print(get_upper_chars_count_regex(\"Hello Mr. Rogers, how are you this fine Tuesday?\"))\n",
    "print(get_upper_chars_count(\"Hello Mr. Rogers, how are you this fine Tuesday?\"))"
   ]
  },
  {
   "cell_type": "code",
   "execution_count": 136,
   "id": "d775ccf5",
   "metadata": {},
   "outputs": [
    {
     "name": "stdout",
     "output_type": "stream",
     "text": [
      "True\n"
     ]
    }
   ],
   "source": [
    "# 8. Напишите функцию, чтобы проверить, является ли строка панграммой или нет. \n",
    "# (Предположим, что переданная строка не имеет пунктуации).\n",
    "# Примечание. Панграммы – это слова или предложения, содержащие каждую букву алфавита хотя бы один раз.\n",
    "# Например : \"The quick brown fox jumps over the lazy dog\"\n",
    "\n",
    "a_unicode_pos = '0061'\n",
    "z_unicode_pos = '007A'\n",
    "\n",
    "def get_alphabet():\n",
    "    return [chr(char) for char in range(int(a_unicode_pos, 16), int(z_unicode_pos, 16) + 1)]\n",
    "\n",
    "def is_pangram(str1):\n",
    "    unique_chars = list(set(str1))\n",
    "    unique_chars.sort()\n",
    "    unique_chars_str = ''.join(unique_chars)\n",
    "    return ''.join(get_alphabet()) == unique_chars_str\n",
    "\n",
    "print(is_pangram('The quick brown fox jumps over the lazy dog'))\n",
    "    "
   ]
  },
  {
   "cell_type": "code",
   "execution_count": 162,
   "id": "9ee35be6",
   "metadata": {},
   "outputs": [
    {
     "name": "stdout",
     "output_type": "stream",
     "text": [
      "****5678\n",
      "****5678\n",
      "***5678\n",
      "**5678\n"
     ]
    }
   ],
   "source": [
    "# 9. Реализуйте функцию get_hidden_card(), которая принимает на вход номер кредитки (состоящий из 16 цифр) \n",
    "# в виде строки и возвращает его скрытую версию\n",
    "\n",
    "def get_hidden_card(credit_num, stars_count = 4):\n",
    "    stars = \"\".join([\"*\" for i in range(stars_count)])\n",
    "    return stars + credit_num[-4:]\n",
    "\n",
    "print(get_hidden_card(\"1234567812345678\"))\n",
    "print(get_hidden_card(\"1234567812345678\", 4))\n",
    "print(get_hidden_card(\"1234567812345678\", 3))\n",
    "print(get_hidden_card(\"1234567812345678\", 2))"
   ]
  }
 ],
 "metadata": {
  "kernelspec": {
   "display_name": "Python 3 (ipykernel)",
   "language": "python",
   "name": "python3"
  },
  "language_info": {
   "codemirror_mode": {
    "name": "ipython",
    "version": 3
   },
   "file_extension": ".py",
   "mimetype": "text/x-python",
   "name": "python",
   "nbconvert_exporter": "python",
   "pygments_lexer": "ipython3",
   "version": "3.9.13"
  }
 },
 "nbformat": 4,
 "nbformat_minor": 5
}
