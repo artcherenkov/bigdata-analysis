{
 "cells": [
  {
   "cell_type": "code",
   "execution_count": 1,
   "id": "e5736bff",
   "metadata": {
    "collapsed": true
   },
   "outputs": [
    {
     "name": "stdout",
     "output_type": "stream",
     "text": [
      "чётный! (Выведите)\n",
      "чётный! (каждое)\n",
      "чётный! (этом)\n",
      "чётный! (четное)\n",
      "чётный! (количество)\n",
      "чётный! (букв)\n"
     ]
    }
   ],
   "source": [
    "# 1. Пройдитесь по приведенной ниже строке и, если длина слова четная, выведите «четный!»\n",
    "# st = 'Выведите каждое слово в этом предложении, имеющее четное количество букв'\n",
    "\n",
    "str = \"Выведите каждое слово в этом предложении, имеющее четное количество букв\"\n",
    "words = str.replace(\",\", \"\").split()\n",
    "\n",
    "for word in words:\n",
    "    if len(word) % 2 == 0: print(f'чётный! ({word})')"
   ]
  },
  {
   "cell_type": "code",
   "execution_count": 2,
   "id": "1874678e",
   "metadata": {
    "collapsed": true
   },
   "outputs": [
    {
     "name": "stdout",
     "output_type": "stream",
     "text": [
      "[3, 6, 9, 12, 15, 18, 21, 24, 27, 30, 33, 36, 39, 42, 45, 48]\n"
     ]
    }
   ],
   "source": [
    "# 2. Используйте списковое включение, чтобы создать список всех чисел от 1 до 50, которые делятся на 3.\n",
    "\n",
    "dividers_3 = [x for x in range(1, 51) if x %3 == 0]\n",
    "print(dividers_3)"
   ]
  },
  {
   "cell_type": "code",
   "execution_count": 3,
   "id": "01df5b31",
   "metadata": {
    "collapsed": true
   },
   "outputs": [
    {
     "name": "stdout",
     "output_type": "stream",
     "text": [
      "1\n",
      "2\n",
      "Fizz\n",
      "4\n",
      "Buzz\n",
      "Fizz\n",
      "7\n",
      "8\n",
      "Fizz\n",
      "Buzz\n",
      "11\n",
      "Fizz\n",
      "13\n",
      "14\n",
      "FizzBuzz\n",
      "16\n",
      "17\n",
      "Fizz\n",
      "19\n",
      "Buzz\n",
      "Fizz\n",
      "22\n",
      "23\n",
      "Fizz\n",
      "Buzz\n",
      "26\n",
      "Fizz\n",
      "28\n",
      "29\n",
      "FizzBuzz\n",
      "31\n",
      "32\n",
      "Fizz\n",
      "34\n",
      "Buzz\n",
      "Fizz\n",
      "37\n",
      "38\n",
      "Fizz\n",
      "Buzz\n",
      "41\n",
      "Fizz\n",
      "43\n",
      "44\n",
      "FizzBuzz\n",
      "46\n",
      "47\n",
      "Fizz\n",
      "49\n",
      "Buzz\n",
      "Fizz\n",
      "52\n",
      "53\n",
      "Fizz\n",
      "Buzz\n",
      "56\n",
      "Fizz\n",
      "58\n",
      "59\n",
      "FizzBuzz\n",
      "61\n",
      "62\n",
      "Fizz\n",
      "64\n",
      "Buzz\n",
      "Fizz\n",
      "67\n",
      "68\n",
      "Fizz\n",
      "Buzz\n",
      "71\n",
      "Fizz\n",
      "73\n",
      "74\n",
      "FizzBuzz\n",
      "76\n",
      "77\n",
      "Fizz\n",
      "79\n",
      "Buzz\n",
      "Fizz\n",
      "82\n",
      "83\n",
      "Fizz\n",
      "Buzz\n",
      "86\n",
      "Fizz\n",
      "88\n",
      "89\n",
      "FizzBuzz\n",
      "91\n",
      "92\n",
      "Fizz\n",
      "94\n",
      "Buzz\n",
      "Fizz\n",
      "97\n",
      "98\n",
      "Fizz\n",
      "Buzz\n"
     ]
    }
   ],
   "source": [
    "# 3. Напишите программу, которая печатает целые числа от 1 до 100. \n",
    "# Но для чисел, кратных трем, вместо числа печатайте «Fizz», а для кратных пяти – «Buzz». \n",
    "# Для чисел, кратных как трем, так и пяти, выведите «FizzBuzz».\n",
    "\n",
    "fizz = \"Fizz\"\n",
    "buzz = \"Buzz\"\n",
    "\n",
    "def is_divisor_by_3(x):\n",
    "    return x % 3 == 0\n",
    "def is_divisor_by_5(x):\n",
    "    return x % 5 == 0\n",
    "\n",
    "for x in range(1, 101):\n",
    "    if is_divisor_by_3(x) and is_divisor_by_5(x):\n",
    "        print(fizz + buzz)\n",
    "    elif is_divisor_by_3(x):\n",
    "        print(fizz)\n",
    "    elif is_divisor_by_5(x):\n",
    "        print(buzz)\n",
    "    else:\n",
    "        print(x)"
   ]
  },
  {
   "cell_type": "code",
   "execution_count": 9,
   "id": "fbc0dacc",
   "metadata": {
    "collapsed": true
   },
   "outputs": [
    {
     "name": "stdout",
     "output_type": "stream",
     "text": [
      "Ваша попытка: 40\n",
      "Тепло\n",
      "Ваша попытка: 45\n",
      "Теплее\n",
      "Ваша попытка: 43\n",
      "Холоднее\n",
      "Ваша попытка: 47\n",
      "Вы угадали число за 4 попыток\n"
     ]
    }
   ],
   "source": [
    "# 4. Напишите программу, которая выбирает случайное целое число от 1 до 100 и предлагает игрокам угадать число. Правила см в задании\n",
    "import random\n",
    "\n",
    "game_state = {\n",
    "    \"guessed_number\": -1,\n",
    "    \"attempts\": 0\n",
    "}\n",
    "\n",
    "range1 = (1, 100)\n",
    "your_try = \"Ваша попытка: \"\n",
    "out_of_range = 'Вне границ'\n",
    "warm = 'Тепло'\n",
    "cold = 'Холодно'\n",
    "warmer = 'Теплее'\n",
    "colder = 'Холоднее'\n",
    "equal = \"Так же\"\n",
    "\n",
    "\n",
    "def get_win_text(attemts_count):\n",
    "    return f'Вы угадали число за {attemts_count} попыток'\n",
    "\n",
    "def is_out_of_range(attempt):\n",
    "    x1, x2 = range1\n",
    "    return attempt < x1 or attempt > x2\n",
    "\n",
    "def is_in_warm_range(base_number, attempt, range = 10):\n",
    "    return attempt >= base_number - range and attempt <= base_number + range\n",
    "\n",
    "def is_equal_distance(base_number, attempt1, attempt2):\n",
    "    return abs(base_number - attempt1) == abs(base_number - attempt2)\n",
    "\n",
    "def is_last_attempt_closer(base_number, attempt1, attempt2):\n",
    "    return abs(base_number - attempt1) > abs(base_number - attempt2)\n",
    "\n",
    "def user_try(prev_answer = None):\n",
    "    last_answer = int(input(your_try))\n",
    "    game_state[\"attempts\"] += 1\n",
    "    guessed_number, attempts = game_state.values()\n",
    "    \n",
    "    a, x1, x2 = guessed_number, prev_answer, last_answer\n",
    "    \n",
    "    if is_out_of_range(x2):\n",
    "        print(out_of_range)\n",
    "        return user_try()\n",
    "    \n",
    "    if x2 == a: \n",
    "        return print(get_win_text(attempts))\n",
    "    \n",
    "    if attempts == 1 or x1 is None:  # если это первая попытка или если предыдущая попытка была за пределами\n",
    "        print(warm) if is_in_warm_range(a, x2) else print(cold)\n",
    "    else:\n",
    "        if is_equal_distance(a, x1, x2):  # если предыдущий ответ равноудален от текущего\n",
    "            print (equal)\n",
    "        else: \n",
    "            print(warmer) if is_last_attempt_closer(a, x1, x2) else print(colder)     \n",
    "            \n",
    "    return user_try(x2)\n",
    "\n",
    "\n",
    "def start_game():\n",
    "    game_state[\"guessed_number\"] = random.randint(1, 100)\n",
    "    user_try()\n",
    "    \n",
    "start_game()"
   ]
  },
  {
   "cell_type": "code",
   "execution_count": 3,
   "id": "8da56765",
   "metadata": {
    "collapsed": true
   },
   "outputs": [
    {
     "name": "stdout",
     "output_type": "stream",
     "text": [
      "Введите букву (\"stop\" для выхода): e\n",
      "Гласная буква\n",
      "\n",
      "Введите букву (\"stop\" для выхода): stop\n"
     ]
    }
   ],
   "source": [
    "# 5. Разработайте программу, запрашивающую у пользователя букву латинского алфавита. \n",
    "# Если введенная буква входит в следующий список (a, e, i, o или u), необходимо вывести сообщение о том, \n",
    "# что эта буква гласная. Если была введена буква y, программа должна написать, \n",
    "# что эта буква может быть как гласной, так и согласной. Во всех других случаях должно выводиться \n",
    "# сообщение о том, что введена согласная буква.\n",
    "\n",
    "vowel = [\"a\", \"e\", \"i\", \"o\", \"u\"]\n",
    "y = \"y\"\n",
    "\n",
    "vowel_message = \"Гласная буква\\n\"\n",
    "consonant_message = \"Согласная буква\\n\"\n",
    "y_message = \"Как гласная, так и согласная буква\\n\"\n",
    "\n",
    "def check_letter():\n",
    "    user_letter = input(\"Введите букву (\\\"stop\\\" для выхода): \")\n",
    "    if user_letter == \"stop\": return\n",
    "\n",
    "    if user_letter == y:\n",
    "        print(y_message)\n",
    "    else: print(vowel_message) if user_letter in vowel else print(consonant_message)\n",
    "    \n",
    "    check_letter()\n",
    "    \n",
    "check_letter()"
   ]
  },
  {
   "cell_type": "code",
   "execution_count": 4,
   "id": "5cdf8bc2",
   "metadata": {
    "collapsed": true
   },
   "outputs": [
    {
     "name": "stdout",
     "output_type": "stream",
     "text": [
      "Введите месяц (англ) (\"s\" для выхода): january\n",
      "31\n",
      "Введите месяц (англ) (\"s\" для выхода): february\n",
      "В зависимости от года в феврале 28 или 29 дней.\n",
      "Введите месяц (англ) (\"s\" для выхода): s\n"
     ]
    }
   ],
   "source": [
    "# 6. Количество дней в месяце варьируется от 28 до 31. Очередная ваша программа должна запрашивать \n",
    "# у пользователя название месяца и отображать количество дней в нем. Поскольку годы мы не учитываем,\n",
    "# для февраля можно вывести сообщение о том, что этот месяц может состоять как из 28, так и из 29 дней,\n",
    "# чтобы учесть фактор високосного года.\n",
    "\n",
    "months = {\n",
    "    \"january\": 31,\n",
    "    \"february\": 28,\n",
    "    \"march\": 31,\n",
    "    \"april\": 30,\n",
    "    \"may\": 31,\n",
    "    \"june\": 30,\n",
    "    \"july\": 31,\n",
    "    \"august\": 31,\n",
    "    \"september\": 30,\n",
    "    \"october\": 31,\n",
    "    \"november\": 30,\n",
    "    \"december\": 31,\n",
    "}\n",
    "\n",
    "def check_month():\n",
    "    user_input = input(\"Введите месяц (англ) (\\\"s\\\" для выхода): \")\n",
    "    \n",
    "    if (user_input == \"s\"): return\n",
    "    \n",
    "    if (user_input == \"february\"): \n",
    "        print(\"В зависимости от года в феврале 28 или 29 дней.\")\n",
    "    else: \n",
    "        print(months[user_input])\n",
    "        \n",
    "    return check_month()\n",
    "    \n",
    "check_month()\n"
   ]
  },
  {
   "cell_type": "code",
   "execution_count": 110,
   "id": "bcc21500",
   "metadata": {},
   "outputs": [
    {
     "name": "stdout",
     "output_type": "stream",
     "text": [
      "Введите день рождения в формате dd.mm: 22.11\n",
      "Скорпион\n"
     ]
    }
   ],
   "source": [
    "# 7. Напишите программу, запрашивающую у пользователя дату его рождения и выводящую на экран соответствующий знак зодиака.\n",
    "months = (31, 28, 31, 30, 31, 30, 31, 31, 30, 31, 30, 31)\n",
    "\n",
    "zodiak = {\n",
    "    \"Козерог\": [(12,22),(1, 19)],\n",
    "    \"Водолей\": [(1,20),(2, 19)],\n",
    "    \"Рыбы\": [(2,20),(3, 20)],\n",
    "    \"Овен\": [(3,21),(4, 20)],\n",
    "    \"Телец\": [(4,21),(5, 20)],\n",
    "    \"Близнецы\": [(5,21),(6, 20)],\n",
    "    \"Рак\": [(6,21),(7, 22)],\n",
    "    \"Лев\": [(7,23),(8, 22)],\n",
    "    \"Дева\": [(8,23),(9, 22)],\n",
    "    \"Весы\": [(9,23),(10, 22)],\n",
    "    \"Скорпион\": [(10,23),(11, 22)],\n",
    "    \"Стрелец\": [(11,23),(12, 21)],\n",
    "}\n",
    "\n",
    "def is_between(a, x1, x2):\n",
    "    if (x2 < x1):  # если отрезок дней зз проходит через 0 (365)\n",
    "        if 0 < a < x2: a += 365 \n",
    "        x2 += 365\n",
    "        \n",
    "    return x1 <= a <= x2\n",
    "\n",
    "def is_suitable_sign(date, zodiak):\n",
    "    start, end = zodiak\n",
    "    start_month, start_day = start\n",
    "    end_month, end_day = end\n",
    "\n",
    "    target_month, target_day = date\n",
    "\n",
    "    a = sum(months[0:target_month-1]) + target_day\n",
    "    x1 = sum(months[0:start_month-1]) + start_day\n",
    "    x2 = sum(months[0:end_month-1]) + end_day\n",
    "    \n",
    "    return is_between(a, x1, x2)\n",
    "\n",
    "def get_zodiak_sign(date):\n",
    "    for key in zodiak.keys():\n",
    "        if is_suitable_sign(date, zodiak[key]): return key\n",
    "            \n",
    "            \n",
    "user_input = input(\"Введите день рождения в формате dd.mm: \")\n",
    "\n",
    "day_str, month_str = user_input.split(\".\")\n",
    "\n",
    "if month_str.startswith(\"0\"): month_str = month_str[-1]\n",
    "if day_str.startswith(\"0\"): day_str = day_str[-1]    \n",
    "\n",
    "date = (int(month_str), int(day_str))\n",
    "\n",
    "print(get_zodiak_sign(date))\n",
    "\n"
   ]
  },
  {
   "cell_type": "code",
   "execution_count": null,
   "id": "56493248",
   "metadata": {
    "collapsed": true
   },
   "outputs": [
    {
     "name": "stdout",
     "output_type": "stream",
     "text": [
      "Введите строку для проверки (\"s\" для выхода): lol\n",
      "Строка является палиндромом\n",
      "Введите строку для проверки (\"s\" для выхода): lkol\n",
      "Строка не является палиндрмом\n",
      "Введите строку для проверки (\"s\" для выхода): hannah\n",
      "Строка является палиндромом\n",
      "Введите строку для проверки (\"s\" для выхода): civic\n",
      "Строка является палиндромом\n",
      "Введите строку для проверки (\"s\" для выхода): level\n",
      "Строка является палиндромом\n",
      "Введите строку для проверки (\"s\" для выхода): civis\n",
      "Строка не является палиндрмом\n",
      "Введите строку для проверки (\"s\" для выхода): ci\n",
      "Строка не является палиндрмом\n",
      "Введите строку для проверки (\"s\" для выхода): ii\n",
      "Строка является палиндромом\n",
      "Введите строку для проверки (\"s\" для выхода): c\n",
      "Строка является палиндромом\n"
     ]
    }
   ],
   "source": [
    "# 8. Строка называется палиндромом, если она пишется одинаково в обоих направлениях. \n",
    "# Например, палиндромами в английском языке являются слова «anna», «civic», «level», «hannah». \n",
    "# Напишите программу, запрашивающую у пользователя строку и при помощи цикла определяющую, \n",
    "# является ли она палиндромом.\n",
    "\n",
    "test = 'portrop'\n",
    "\n",
    "def is_palindrom(str):\n",
    "    if len(str) % 2 > 0:  # если длина строки нечетная, уберем центральный символ из неё\n",
    "        str = str.replace(str[len(str) // 2], \"\")\n",
    "        \n",
    "    # пройдемся по строке с двух сторон\n",
    "    idx = 0\n",
    "    while idx < len(str) / 2:\n",
    "        if str[idx] != str[-idx - 1]: return False   \n",
    "        idx += 1\n",
    "        \n",
    "    return True\n",
    "\n",
    "def is_palindrom_clever(str):\n",
    "    return str == str[::-1]\n",
    "        \n",
    "def user_interact():\n",
    "    user_input = input(\"Введите строку для проверки (\\\"s\\\" для выхода): \")\n",
    "    if (user_input == \"s\"): return\n",
    "    print(\"Строка является палиндромом\") if is_palindrom(user_input) else print(\"Строка не является палиндрмом\")\n",
    "    user_interact()\n",
    "\n",
    "user_interact()"
   ]
  },
  {
   "cell_type": "code",
   "execution_count": null,
   "id": "317d22e3",
   "metadata": {},
   "outputs": [],
   "source": []
  }
 ],
 "metadata": {
  "kernelspec": {
   "display_name": "Python 3.10.6 64-bit",
   "language": "python",
   "name": "python3"
  },
  "language_info": {
   "codemirror_mode": {
    "name": "ipython",
    "version": 3
   },
   "file_extension": ".py",
   "mimetype": "text/x-python",
   "name": "python",
   "nbconvert_exporter": "python",
   "pygments_lexer": "ipython3",
   "version": "3.10.6"
  },
  "vscode": {
   "interpreter": {
    "hash": "b0fa6594d8f4cbf19f97940f81e996739fb7646882a419484c72d19e05852a7e"
   }
  }
 },
 "nbformat": 4,
 "nbformat_minor": 5
}
