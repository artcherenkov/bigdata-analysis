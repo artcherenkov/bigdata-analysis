{
 "cells": [
  {
   "cell_type": "markdown",
   "id": "e8808b37",
   "metadata": {},
   "source": [
    "#### 5. Система бронирования авиакомпаний/отелей. Создайте систему бронирования, которая бронирует места в самолетах или номера в отелях. Он взимает различные тарифы за определенные участки самолета или отеля. Например, первый класс будет стоить больше, чем эконом. В гостиничных номерах есть пентхаусы, которые стоят дороже. Следите за тем, когда комнаты будут доступны и могут быть запланированы."
   ]
  },
  {
   "cell_type": "code",
   "execution_count": 149,
   "id": "fc692591",
   "metadata": {},
   "outputs": [
    {
     "name": "stdout",
     "output_type": "stream",
     "text": [
      "Booked a room 'standart' in 'Mariott' on 24.10.2022. 2 left on this date.\n",
      "Booked a room 'standart' in 'Mariott' on 24.10.2022. 1 left on this date.\n",
      "Booked a room 'standart' in 'Mariott' on 24.10.2022. 0 left on this date.\n",
      "No vacant rooms 'standart' in Mariott on 24.10.2022.\n",
      "Booked a room 'penthouse' in 'Mariott' on 24.10.2022. 1 left on this date.\n",
      "Booked a room 'standart' in 'Radisson' on 24.10.2022. 2 left on this date.\n",
      "Booked a room 'penthouse' in 'Radisson' on 24.10.2022. 4 left on this date.\n",
      "Booked a room 'penthouse' in 'Radisson' on 25.10.2022. 4 left on this date.\n"
     ]
    }
   ],
   "source": [
    "from enum import Enum\n",
    "from typing import TypedDict\n",
    "\n",
    "\n",
    "class RoomClass(Enum):  # класс гостиницы\n",
    "    Standart = \"standart\"\n",
    "    Penthouse = \"penthouse\"\n",
    "\n",
    "    def __repr__(self):\n",
    "        return self.value\n",
    "\n",
    "\n",
    "class RoomReservation(TypedDict):\n",
    "    hotel_title: str\n",
    "    room_class: RoomClass\n",
    "    date: str\n",
    "\n",
    "\n",
    "class Hotel:\n",
    "    def __init__(self, title: str, rooms: dict[RoomClass, int]):\n",
    "        self.title = title\n",
    "        self.rooms = {RoomClass.Standart: 0, RoomClass.Penthouse: 0, **rooms}\n",
    "\n",
    "    def __repr__(self):\n",
    "        return f'Hotel {self.title}, Vacant spaces: {self.rooms}'\n",
    "\n",
    "\n",
    "class Supervisor:\n",
    "    def __init__(self, hotels: list[Hotel] = []):\n",
    "        self._hotels = hotels\n",
    "\n",
    "        self._room_reservations: list[RoomReservation] = []\n",
    "\n",
    "    def add_hotel(self, hotel: Hotel):\n",
    "        if hotel in self._hotels:\n",
    "            return print(f'Oops \\'{hotel.title}\\' already on the list.')\n",
    "        self._hotels += [hotel]\n",
    "\n",
    "    def remove_hotel(self, hotel_title: str):\n",
    "        hotel_to_remove = self._find_hotel(hotel_title)\n",
    "\n",
    "        if hotel_to_remove is None:\n",
    "            return print(f'There\\'s no hotel {hotel_title} on the list.')\n",
    "\n",
    "        self._hotels.remove(hotel_to_remove)\n",
    "        print(f'Removed hotel {hotel_title}')\n",
    "\n",
    "    def get_hotels(self):\n",
    "        return self._hotels\n",
    "\n",
    "    def book_a_room(self, hotel_title: str, room_class: RoomClass, date: str):\n",
    "        hotel_to_book = self._find_hotel(hotel_title)\n",
    "        if hotel_to_book is None:\n",
    "            return print(f'There\\'s no hotel \\'{hotel_title}\\' on the list.')\n",
    "\n",
    "        has_vacant_rooms, vacant_spaces_count = self._has_vacant_rooms(\n",
    "            hotel_to_book, room_class, date)\n",
    "        if has_vacant_rooms:\n",
    "            self._room_reservations += [\n",
    "                self._create_room_reservation(hotel_title, room_class, date)]\n",
    "            return print(\n",
    "                f'Booked a room \\'{room_class.value}\\' in \\'{hotel_title}\\' on {date}. {vacant_spaces_count - 1} left on this date.')\n",
    "\n",
    "        print(\n",
    "            f'No vacant rooms \\'{room_class.value}\\' in {hotel_title} on {date}.')\n",
    "\n",
    "    def _create_room_reservation(self, hotel_title: str, room_class: RoomClass, date: str) -> RoomReservation:\n",
    "        return {\"hotel_title\": hotel_title, \"room_class\": room_class, \"date\": date}\n",
    "\n",
    "    def _find_hotel(self, hotel_title: str) -> Hotel | None:\n",
    "        return next(\n",
    "            (hotel for hotel in self._hotels if hotel.title == hotel_title), None)\n",
    "\n",
    "    def _has_vacant_rooms(self, hotel: Hotel, room_class: RoomClass, date: str) -> tuple[bool, int]:\n",
    "        this_day_reservations = list(filter(\n",
    "            lambda r: r[\"hotel_title\"] == hotel.title and r[\"date\"] == date and r[\"room_class\"] == room_class, self._room_reservations))\n",
    "\n",
    "        vacant_spaces_count = hotel.rooms[room_class] - \\\n",
    "            len(this_day_reservations)\n",
    "        has_vacant_rooms = vacant_spaces_count > 0\n",
    "\n",
    "        return (has_vacant_rooms, vacant_spaces_count)\n",
    "\n",
    "\n",
    "mariott = Hotel(\"Mariott\", {RoomClass.Standart: 3, RoomClass.Penthouse: 2})\n",
    "\n",
    "sv = Supervisor(\n",
    "    [mariott, Hotel(\"Radisson\", {RoomClass.Standart: 3, RoomClass.Penthouse: 5})])\n",
    "\n",
    "sv.book_a_room(mariott.title, RoomClass.Standart, \"24.10.2022\")\n",
    "sv.book_a_room(mariott.title, RoomClass.Standart, \"24.10.2022\")\n",
    "sv.book_a_room(mariott.title, RoomClass.Standart, \"24.10.2022\")\n",
    "sv.book_a_room(mariott.title, RoomClass.Standart, \"24.10.2022\")\n",
    "sv.book_a_room(mariott.title, RoomClass.Penthouse, \"24.10.2022\")\n",
    "\n",
    "sv.book_a_room(\"Radisson\", RoomClass.Standart, \"24.10.2022\")\n",
    "sv.book_a_room(\"Radisson\", RoomClass.Penthouse, \"24.10.2022\")\n",
    "sv.book_a_room(\"Radisson\", RoomClass.Penthouse, \"25.10.2022\")\n"
   ]
  },
  {
   "cell_type": "code",
   "execution_count": null,
   "metadata": {},
   "outputs": [],
   "source": []
  }
 ],
 "metadata": {
  "kernelspec": {
   "display_name": "Python 3.10.6 64-bit",
   "language": "python",
   "name": "python3"
  },
  "language_info": {
   "codemirror_mode": {
    "name": "ipython",
    "version": 3
   },
   "file_extension": ".py",
   "mimetype": "text/x-python",
   "name": "python",
   "nbconvert_exporter": "python",
   "pygments_lexer": "ipython3",
   "version": "3.10.6"
  },
  "orig_nbformat": 4,
  "vscode": {
   "interpreter": {
    "hash": "b0fa6594d8f4cbf19f97940f81e996739fb7646882a419484c72d19e05852a7e"
   }
  }
 },
 "nbformat": 4,
 "nbformat_minor": 2
}
